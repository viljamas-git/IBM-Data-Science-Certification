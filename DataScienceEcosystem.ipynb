{
 "cells": [
  {
   "cell_type": "markdown",
   "id": "b627076a-fcc9-47a4-85b9-5ad190488c3e",
   "metadata": {},
   "source": [
    "# Data Science Tools and Ecosystem"
   ]
  },
  {
   "cell_type": "markdown",
   "id": "311843d9-ab8b-4cd2-8a35-bbb6efeb7bb4",
   "metadata": {},
   "source": [
    "In this notebook, Data Science Tools and Ecosystem are summarized."
   ]
  },
  {
   "cell_type": "markdown",
   "id": "26aff877-8da3-4f98-8474-c709f4edb9e7",
   "metadata": {},
   "source": [
    "**Objectives:**\n",
    "\n",
    "- List popular languages for Data Science  \n",
    "- Identify commonly used libraries by Data Scientists  \n",
    "- Describe popular Data Science tools and environments  \n",
    "- Explain basic arithmetic operations in Python  \n",
    "- Convert units (e.g., minutes to hours) using Python expressions"
   ]
  },
  {
   "cell_type": "markdown",
   "id": "92df284c-ed43-42d1-abeb-9a83aa4231e6",
   "metadata": {},
   "source": [
    "## Author\n",
    "Viljamas Simsonas"
   ]
  },
  {
   "cell_type": "markdown",
   "id": "2379845d-e0ef-4779-8f79-3e979be91856",
   "metadata": {},
   "source": [
    "Some of the popular languages that Data Scientists use are:\n",
    "1. **Python** 🐍 – The most widely used language for data science due to its rich ecosystem (NumPy, Pandas, scikit-learn, TensorFlow, PyTorch, etc.).\n",
    "\n",
    "2. **R** 📊 – Strong for statistical analysis, data visualization, and academic research.\n",
    "\n",
    "3. **SQL** 💾 – Essential for querying and managing relational databases.\n",
    "\n",
    "4. **Julia** ⚡ – Designed for high-performance numerical and scientific computing.\n",
    "\n",
    "5. **Scala** 🔥 – Often used with Apache Spark for big data processing.\n",
    "\n",
    "6. **Java** ☕ – Sometimes used in production ML pipelines and enterprise environments.\n",
    "\n",
    "7. **MATLAB** 📐 – Common in engineering, simulations, and academia.\n"
   ]
  },
  {
   "cell_type": "markdown",
   "id": "f92645e3-e6b3-4522-8704-00cb8c82054e",
   "metadata": {},
   "source": [
    "Some of the commonly used libraries used by Data Scientists include:\n",
    "1. 🧮 **NumPy** – Numerical computing and array operations\n",
    "\n",
    "2. 📊 **Pandas** – Data manipulation, cleaning, and analysis\n",
    "\n",
    "3. 📈 **Matplotlib** – Basic data visualization and plotting\n",
    "\n",
    "4. 🎨 **Seaborn** – Advanced statistical visualizations\n",
    "\n",
    "5. 🤖 **Scikit-learn** – Machine learning algorithms and evaluation\n",
    "\n",
    "6. 🧠 **TensorFlow** – Deep learning and neural networks\n",
    "\n",
    "7. 🔥 **PyTorch** – Deep learning with dynamic computation graphs\n",
    "\n",
    "8. 📐 **Statsmodels** – Statistical modeling and hypothesis testing"
   ]
  },
  {
   "cell_type": "markdown",
   "id": "7fcb7636-9b72-4cdb-b847-cf0c8bafc415",
   "metadata": {},
   "source": [
    "| Data Science Tools |\n",
    "|--------------------|\n",
    "| 📓 **Jupyter Notebook** – An open-source web application for creating and sharing documents with live code, equations, visualizations, and narrative text. |\n",
    "| 📊 **RStudio** – An integrated development environment (IDE) for R, used for statistical computing and data visualization. |\n",
    "| 🪶 **Apache Zeppelin** – A web-based notebook that supports interactive data analytics, integrates with big data tools, and offers built-in visualizations. |\n"
   ]
  },
  {
   "cell_type": "markdown",
   "id": "059f26b8-ebde-4438-a7f5-faa8d5ffab71",
   "metadata": {},
   "source": [
    "### Below are a few examples of evaluating arithmetic expressions in Python"
   ]
  },
  {
   "cell_type": "code",
   "execution_count": 10,
   "id": "d2b49ece-a7d2-486b-bd04-2a2243f03d06",
   "metadata": {},
   "outputs": [
    {
     "data": {
      "text/plain": [
       "17"
      ]
     },
     "execution_count": 10,
     "metadata": {},
     "output_type": "execute_result"
    }
   ],
   "source": [
    "# This is a simple arithmetic expression to multiply then add integers\n",
    "(3 * 4) + 5"
   ]
  },
  {
   "cell_type": "code",
   "execution_count": 7,
   "id": "dbce52c2-e717-449a-9265-cd6bd9bcd977",
   "metadata": {},
   "outputs": [
    {
     "data": {
      "text/plain": [
       "3.3333333333333335"
      ]
     },
     "execution_count": 7,
     "metadata": {},
     "output_type": "execute_result"
    }
   ],
   "source": [
    "# This will convert 200 minutes to hours by diving by 60\n",
    "200/60"
   ]
  }
 ],
 "metadata": {
  "kernelspec": {
   "display_name": "Python 3 (ipykernel)",
   "language": "python",
   "name": "python3"
  },
  "language_info": {
   "codemirror_mode": {
    "name": "ipython",
    "version": 3
   },
   "file_extension": ".py",
   "mimetype": "text/x-python",
   "name": "python",
   "nbconvert_exporter": "python",
   "pygments_lexer": "ipython3",
   "version": "3.12.8"
  }
 },
 "nbformat": 4,
 "nbformat_minor": 5
}
